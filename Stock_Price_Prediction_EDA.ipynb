{
 "cells": [
  {
   "cell_type": "code",
   "execution_count": 2,
   "metadata": {},
   "outputs": [
    {
     "name": "stderr",
     "output_type": "stream",
     "text": [
      "<ipython-input-2-1c502f52aa32>:18: FutureWarning: Passing a negative integer is deprecated in version 1.0 and will not be supported in future version. Instead, use None to not limit the column width.\n",
      "  pd.set_option('display.max_colwidth', -1)\n"
     ]
    }
   ],
   "source": [
    "import numpy as np\n",
    "import pandas as pd\n",
    "import matplotlib.pyplot as plt\n",
    "%matplotlib inline\n",
    "plt.style.use('seaborn-whitegrid')\n",
    "\n",
    "import seaborn as sns\n",
    "from sklearn.model_selection import train_test_split, StratifiedKFold\n",
    "from sklearn.metrics import accuracy_score, f1_score\n",
    "\n",
    "from sklearn.tree import DecisionTreeClassifier\n",
    "from sklearn.linear_model import LogisticRegression\n",
    "\n",
    "\n",
    "from IPython.core.interactiveshell import InteractiveShell\n",
    "InteractiveShell.ast_node_interactivity = \"all\"\n",
    "\n",
    "pd.set_option('display.max_colwidth', -1)\n",
    "\n",
    "import warnings\n",
    "warnings.simplefilter('ignore')"
   ]
  },
  {
   "cell_type": "code",
   "execution_count": 3,
   "metadata": {},
   "outputs": [],
   "source": [
    "train = pd.read_csv(\"/Users/user/Desktop/EliteBook 2020/datasasaR/Data_Competitions/Stock_Price_Prediction/Train_awoL0xl.csv\")"
   ]
  },
  {
   "cell_type": "code",
   "execution_count": 4,
   "metadata": {},
   "outputs": [],
   "source": [
    "test = pd.read_csv(\"/Users/user/Desktop/EliteBook 2020/datasasaR/Data_Competitions/Stock_Price_Prediction/Test_QQKW4dv.csv\")"
   ]
  },
  {
   "cell_type": "code",
   "execution_count": 5,
   "metadata": {},
   "outputs": [
    {
     "data": {
      "text/html": [
       "<div>\n",
       "<style scoped>\n",
       "    .dataframe tbody tr th:only-of-type {\n",
       "        vertical-align: middle;\n",
       "    }\n",
       "\n",
       "    .dataframe tbody tr th {\n",
       "        vertical-align: top;\n",
       "    }\n",
       "\n",
       "    .dataframe thead th {\n",
       "        text-align: right;\n",
       "    }\n",
       "</style>\n",
       "<table border=\"1\" class=\"dataframe\">\n",
       "  <thead>\n",
       "    <tr style=\"text-align: right;\">\n",
       "      <th></th>\n",
       "      <th>ID</th>\n",
       "      <th>stock</th>\n",
       "      <th>Date</th>\n",
       "      <th>Open</th>\n",
       "      <th>High</th>\n",
       "      <th>Low</th>\n",
       "      <th>Close</th>\n",
       "      <th>holiday</th>\n",
       "      <th>unpredictability_score</th>\n",
       "    </tr>\n",
       "  </thead>\n",
       "  <tbody>\n",
       "    <tr>\n",
       "      <th>0</th>\n",
       "      <td>id_0</td>\n",
       "      <td>0</td>\n",
       "      <td>2017-01-03</td>\n",
       "      <td>82.9961</td>\n",
       "      <td>82.7396</td>\n",
       "      <td>82.9144</td>\n",
       "      <td>82.8101</td>\n",
       "      <td>1</td>\n",
       "      <td>7</td>\n",
       "    </tr>\n",
       "    <tr>\n",
       "      <th>1</th>\n",
       "      <td>id_1</td>\n",
       "      <td>0</td>\n",
       "      <td>2017-01-04</td>\n",
       "      <td>83.1312</td>\n",
       "      <td>83.1669</td>\n",
       "      <td>83.3779</td>\n",
       "      <td>82.9690</td>\n",
       "      <td>0</td>\n",
       "      <td>7</td>\n",
       "    </tr>\n",
       "    <tr>\n",
       "      <th>2</th>\n",
       "      <td>id_2</td>\n",
       "      <td>0</td>\n",
       "      <td>2017-01-05</td>\n",
       "      <td>82.6622</td>\n",
       "      <td>82.7634</td>\n",
       "      <td>82.8984</td>\n",
       "      <td>82.8578</td>\n",
       "      <td>0</td>\n",
       "      <td>7</td>\n",
       "    </tr>\n",
       "    <tr>\n",
       "      <th>3</th>\n",
       "      <td>id_3</td>\n",
       "      <td>0</td>\n",
       "      <td>2017-01-06</td>\n",
       "      <td>83.0279</td>\n",
       "      <td>82.7950</td>\n",
       "      <td>82.8425</td>\n",
       "      <td>82.7385</td>\n",
       "      <td>0</td>\n",
       "      <td>7</td>\n",
       "    </tr>\n",
       "    <tr>\n",
       "      <th>4</th>\n",
       "      <td>id_4</td>\n",
       "      <td>0</td>\n",
       "      <td>2017-01-09</td>\n",
       "      <td>82.3761</td>\n",
       "      <td>82.0828</td>\n",
       "      <td>82.1473</td>\n",
       "      <td>81.8641</td>\n",
       "      <td>0</td>\n",
       "      <td>7</td>\n",
       "    </tr>\n",
       "  </tbody>\n",
       "</table>\n",
       "</div>"
      ],
      "text/plain": [
       "     ID  stock        Date     Open     High      Low    Close  holiday  \\\n",
       "0  id_0  0      2017-01-03  82.9961  82.7396  82.9144  82.8101  1         \n",
       "1  id_1  0      2017-01-04  83.1312  83.1669  83.3779  82.9690  0         \n",
       "2  id_2  0      2017-01-05  82.6622  82.7634  82.8984  82.8578  0         \n",
       "3  id_3  0      2017-01-06  83.0279  82.7950  82.8425  82.7385  0         \n",
       "4  id_4  0      2017-01-09  82.3761  82.0828  82.1473  81.8641  0         \n",
       "\n",
       "   unpredictability_score  \n",
       "0  7                       \n",
       "1  7                       \n",
       "2  7                       \n",
       "3  7                       \n",
       "4  7                       "
      ]
     },
     "execution_count": 5,
     "metadata": {},
     "output_type": "execute_result"
    }
   ],
   "source": [
    "train.head()"
   ]
  },
  {
   "cell_type": "code",
   "execution_count": 7,
   "metadata": {},
   "outputs": [
    {
     "data": {
      "text/html": [
       "<div>\n",
       "<style scoped>\n",
       "    .dataframe tbody tr th:only-of-type {\n",
       "        vertical-align: middle;\n",
       "    }\n",
       "\n",
       "    .dataframe tbody tr th {\n",
       "        vertical-align: top;\n",
       "    }\n",
       "\n",
       "    .dataframe thead th {\n",
       "        text-align: right;\n",
       "    }\n",
       "</style>\n",
       "<table border=\"1\" class=\"dataframe\">\n",
       "  <thead>\n",
       "    <tr style=\"text-align: right;\">\n",
       "      <th></th>\n",
       "      <th>ID</th>\n",
       "      <th>stock</th>\n",
       "      <th>Date</th>\n",
       "      <th>holiday</th>\n",
       "      <th>unpredictability_score</th>\n",
       "    </tr>\n",
       "  </thead>\n",
       "  <tbody>\n",
       "    <tr>\n",
       "      <th>0</th>\n",
       "      <td>id_713</td>\n",
       "      <td>0</td>\n",
       "      <td>2019-11-01</td>\n",
       "      <td>0</td>\n",
       "      <td>7</td>\n",
       "    </tr>\n",
       "    <tr>\n",
       "      <th>1</th>\n",
       "      <td>id_714</td>\n",
       "      <td>0</td>\n",
       "      <td>2019-11-04</td>\n",
       "      <td>0</td>\n",
       "      <td>7</td>\n",
       "    </tr>\n",
       "    <tr>\n",
       "      <th>2</th>\n",
       "      <td>id_715</td>\n",
       "      <td>0</td>\n",
       "      <td>2019-11-05</td>\n",
       "      <td>0</td>\n",
       "      <td>7</td>\n",
       "    </tr>\n",
       "    <tr>\n",
       "      <th>3</th>\n",
       "      <td>id_716</td>\n",
       "      <td>0</td>\n",
       "      <td>2019-11-06</td>\n",
       "      <td>0</td>\n",
       "      <td>7</td>\n",
       "    </tr>\n",
       "    <tr>\n",
       "      <th>4</th>\n",
       "      <td>id_717</td>\n",
       "      <td>0</td>\n",
       "      <td>2019-11-07</td>\n",
       "      <td>0</td>\n",
       "      <td>7</td>\n",
       "    </tr>\n",
       "  </tbody>\n",
       "</table>\n",
       "</div>"
      ],
      "text/plain": [
       "       ID  stock        Date  holiday  unpredictability_score\n",
       "0  id_713  0      2019-11-01  0        7                     \n",
       "1  id_714  0      2019-11-04  0        7                     \n",
       "2  id_715  0      2019-11-05  0        7                     \n",
       "3  id_716  0      2019-11-06  0        7                     \n",
       "4  id_717  0      2019-11-07  0        7                     "
      ]
     },
     "execution_count": 7,
     "metadata": {},
     "output_type": "execute_result"
    }
   ],
   "source": [
    "test.head()"
   ]
  },
  {
   "cell_type": "code",
   "execution_count": null,
   "metadata": {},
   "outputs": [],
   "source": [
    "# Changing the ID and Close column names"
   ]
  },
  {
   "cell_type": "code",
   "execution_count": 11,
   "metadata": {},
   "outputs": [],
   "source": [
    "ID_COL, TARGET_COL = 'ID', 'Close'"
   ]
  },
  {
   "cell_type": "code",
   "execution_count": 12,
   "metadata": {},
   "outputs": [
    {
     "name": "stdout",
     "output_type": "stream",
     "text": [
      "\n",
      "Train contains 73439 samples and 9 variables\n",
      "\n",
      "Test contains 4223 samples and 5 variables\n",
      "\n",
      "The dataset contains 7 features\n"
     ]
    }
   ],
   "source": [
    "# Exploring the datashape of the dataset and clearly marking out which are the features for the dataset\n",
    "# Features exploration\n",
    "print(f'\\nTrain contains {train.shape[0]} samples and {train.shape[1]} variables')\n",
    "print(f'\\nTest contains {test.shape[0]} samples and {test.shape[1]} variables')\n",
    "\n",
    "features = [c for c in train.columns if c not in [ID_COL, TARGET_COL]]\n",
    "print(f'\\nThe dataset contains {len(features)} features')"
   ]
  },
  {
   "cell_type": "code",
   "execution_count": 14,
   "metadata": {},
   "outputs": [
    {
     "data": {
      "image/png": "[encoded data removed]",
      "text/plain": [
       "<Figure size 432x288 with 1 Axes>"
      ]
     },
     "metadata": {},
     "output_type": "display_data"
    }
   ],
   "source": [
    "#Analyzing the distribution of the target \n",
    "#Since it is numerical, I will use the distribution graph\n",
    "# The graph is used to specify the probability of the variable falling within a particular range of values\n",
    "target_dist = sns.distplot(train[TARGET_COL])\n",
    "target_dist = plt.title(\"Target Distribution\", fontsize=14)"
   ]
  },
  {
   "cell_type": "code",
   "execution_count": 16,
   "metadata": {},
   "outputs": [
    {
     "name": "stdout",
     "output_type": "stream",
     "text": [
      "<class 'pandas.core.frame.DataFrame'>\n",
      "RangeIndex: 73439 entries, 0 to 73438\n",
      "Data columns (total 9 columns):\n",
      " #   Column                  Non-Null Count  Dtype  \n",
      "---  ------                  --------------  -----  \n",
      " 0   ID                      73439 non-null  object \n",
      " 1   stock                   73439 non-null  int64  \n",
      " 2   Date                    73439 non-null  object \n",
      " 3   Open                    73439 non-null  float64\n",
      " 4   High                    73439 non-null  float64\n",
      " 5   Low                     73439 non-null  float64\n",
      " 6   Close                   73439 non-null  float64\n",
      " 7   holiday                 73439 non-null  int64  \n",
      " 8   unpredictability_score  73439 non-null  int64  \n",
      "dtypes: float64(4), int64(3), object(2)\n",
      "memory usage: 5.0+ MB\n",
      "<class 'pandas.core.frame.DataFrame'>\n",
      "RangeIndex: 4223 entries, 0 to 4222\n",
      "Data columns (total 5 columns):\n",
      " #   Column                  Non-Null Count  Dtype \n",
      "---  ------                  --------------  ----- \n",
      " 0   ID                      4223 non-null   object\n",
      " 1   stock                   4223 non-null   int64 \n",
      " 2   Date                    4223 non-null   object\n",
      " 3   holiday                 4223 non-null   int64 \n",
      " 4   unpredictability_score  4223 non-null   int64 \n",
      "dtypes: int64(3), object(2)\n",
      "memory usage: 165.1+ KB\n"
     ]
    }
   ],
   "source": [
    "#A brief summary of the data at hand\n",
    "train.info()\n",
    "test.info()"
   ]
  },
  {
   "cell_type": "code",
   "execution_count": 17,
   "metadata": {},
   "outputs": [
    {
     "data": {
      "text/plain": [
       "unpredictability_score    0.0\n",
       "holiday                   0.0\n",
       "Close                     0.0\n",
       "Low                       0.0\n",
       "High                      0.0\n",
       "Open                      0.0\n",
       "Date                      0.0\n",
       "stock                     0.0\n",
       "ID                        0.0\n",
       "dtype: float64"
      ]
     },
     "execution_count": 17,
     "metadata": {},
     "output_type": "execute_result"
    }
   ],
   "source": [
    "#Percentage of null values in each variable\n",
    "null_values_per_variable = 100 * (train.isnull().sum()/train.shape[0]).round(3)#.reset_index()\n",
    "null_values_per_variable.sort_values(ascending=False)"
   ]
  },
  {
   "cell_type": "code",
   "execution_count": 18,
   "metadata": {},
   "outputs": [
    {
     "data": {
      "text/plain": [
       "ID                        73439\n",
       "stock                     103  \n",
       "Date                      713  \n",
       "Open                      60702\n",
       "High                      60594\n",
       "Low                       61015\n",
       "Close                     60352\n",
       "holiday                   2    \n",
       "unpredictability_score    10   \n",
       "dtype: int64"
      ]
     },
     "execution_count": 18,
     "metadata": {},
     "output_type": "execute_result"
    }
   ],
   "source": [
    "#Finding unique values for each variable\n",
    "train.nunique()"
   ]
  },
  {
   "cell_type": "code",
   "execution_count": 19,
   "metadata": {},
   "outputs": [
    {
     "data": {
      "image/png": "[encoded data removed]",
      "text/plain": [
       "<Figure size 864x288 with 1 Axes>"
      ]
     },
     "metadata": {},
     "output_type": "display_data"
    }
   ],
   "source": [
    "#TimeSeries Plots\n",
    "plt.style.use('fivethirtyeight')\n",
    "train['Date'] = pd.to_datetime(train['Date'])\n",
    "time_graph = train.set_index('Date')['Close'].plot(figsize=(12, 4))"
   ]
  },
  {
   "cell_type": "code",
   "execution_count": 23,
   "metadata": {},
   "outputs": [
    {
     "data": {
      "text/plain": [
       "0       2017-01-03\n",
       "1       2017-01-04\n",
       "2       2017-01-05\n",
       "3       2017-01-06\n",
       "4       2017-01-09\n",
       "           ...    \n",
       "73434   2019-10-25\n",
       "73435   2019-10-28\n",
       "73436   2019-10-29\n",
       "73437   2019-10-30\n",
       "73438   2019-10-31\n",
       "Name: Date, Length: 73439, dtype: datetime64[ns]"
      ]
     },
     "execution_count": 23,
     "metadata": {},
     "output_type": "execute_result"
    }
   ],
   "source": [
    "train.Date"
   ]
  },
  {
   "cell_type": "code",
   "execution_count": null,
   "metadata": {},
   "outputs": [],
   "source": []
  }
 ],
 "metadata": {
  "kernelspec": {
   "display_name": "Python 3",
   "language": "python",
   "name": "python3"
  },
  "language_info": {
   "codemirror_mode": {
    "name": "ipython",
    "version": 3
   },
   "file_extension": ".py",
   "mimetype": "text/x-python",
   "name": "python",
   "nbconvert_exporter": "python",
   "pygments_lexer": "ipython3",
   "version": "3.8.3"
  }
 },
 "nbformat": 4,
 "nbformat_minor": 4
}
